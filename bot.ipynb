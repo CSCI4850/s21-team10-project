{
 "cells": [
  {
   "cell_type": "code",
   "execution_count": 2,
   "id": "czech-rogers",
   "metadata": {},
   "outputs": [],
   "source": [
    "# Let's collect some tools for this job...\n",
    "import tensorflow.keras as keras\n",
    "from tensorflow.keras import layers\n",
    "import tensorflow.keras.backend as K\n",
    "from tensorflow.keras import regularizers\n",
    "import numpy as np\n",
    "from IPython.display import display\n",
    "import matplotlib.pyplot as plt\n",
    "import tensorflow as tf\n",
    "import csv\n",
    "import os\n",
    "import replay\n",
    "%matplotlib inline"
   ]
  },
  {
   "cell_type": "code",
   "execution_count": null,
   "id": "agricultural-intelligence",
   "metadata": {},
   "outputs": [],
   "source": [
    "# Use this codeblock if you are using a GPU and have 6gb of VRAM or less\n",
    "# You might be fine without it, but this just makes it so tensorflow doesn't\n",
    "# absorb all of it at once.\n",
    "import tensorflow as tf\n",
    "physical_devices = tf.config.list_physical_devices('GPU') \n",
    "tf.config.experimental.set_memory_growth(physical_devices[0], True)"
   ]
  },
  {
   "cell_type": "code",
   "execution_count": null,
   "id": "patient-disclosure",
   "metadata": {},
   "outputs": [],
   "source": [
    "# for debugging, train for a specified time\n",
    "import time\n",
    "class TimeOut(keras.callbacks.Callback):\n",
    "    def __init__(self, t0, timeout):\n",
    "        super().__init__()\n",
    "        self.t0 = t0\n",
    "        self.timeout = timeout  # time in minutes\n",
    "\n",
    "    def on_train_batch_end(self, batch, logs=None):\n",
    "        if time.time() - self.t0 > self.timeout * 60:  # 58 minutes\n",
    "            print(f\"\\nReached {(time.time() - self.t0) / 60:.3f} minutes of training, stopping\")\n",
    "            self.model.stop_training = True\n",
    "\n",
    "callback = [TimeOut(t0=time.time(), timeout=30)]"
   ]
  },
  {
   "cell_type": "markdown",
   "id": "german-breast",
   "metadata": {},
   "source": [
    "#### This reads in every replay found in scrape-out/\n",
    "\n",
    "#### It achieves this by checking every replay found in scrape-done, which has also been cleaned of user data.\n",
    "\n",
    "#### You might have to download the used data from an external source."
   ]
  },
  {
   "cell_type": "code",
   "execution_count": null,
   "id": "funny-cholesterol",
   "metadata": {},
   "outputs": [],
   "source": [
    "# first we need to get every replay that has been successfully parsed\n",
    "dataX = []\n",
    "dataY = []\n",
    "for path, dirs, files in os.walk(\"scrape-done/\"):\n",
    "    # then we need to load in every file into memory\n",
    "    for filename in files:\n",
    "        csvName = \"scrape-out/\" + filename[:-7] # removes '.json'\n",
    "        theInput = csvName + '-in.csv'\n",
    "        passFlag = False\n",
    "        with open(theInput) as fp:\n",
    "            reader = csv.reader(fp)\n",
    "            skip = True\n",
    "            curReplay = []\n",
    "            for row in reader:\n",
    "                if skip:\n",
    "                    skip = False\n",
    "                    continue\n",
    "                rowFixed = row\n",
    "                # in the event an errored replay exists\n",
    "                # usually this means a bug in the parser\n",
    "                if (len(row) != 207):\n",
    "                    print(\"len not 207:\", len(row))\n",
    "                    print(theInput)\n",
    "                    passFlag = True\n",
    "                    break\n",
    "                # convert all values in a row to float32\n",
    "                for x in range(len(row)):\n",
    "                    rowFixed[x] = np.float32(row[x])\n",
    "                curReplay.append(np.array(rowFixed))\n",
    "            # 269 turns is our longest replay in the set\n",
    "            for x in range(269 - len(curReplay)):\n",
    "                curReplay.append(np.full((207),np.float32(-1.0)))\n",
    "        dataX.append(curReplay)\n",
    "        theOutput = csvName + \"-out.csv\"\n",
    "        if passFlag:\n",
    "            passFlag = False\n",
    "            continue\n",
    "        with open(theOutput) as fp:\n",
    "            reader = csv.reader(fp)\n",
    "            skip = True\n",
    "            curReplay2 = []\n",
    "            for row in reader:\n",
    "                if skip:\n",
    "                    skip = False\n",
    "                    continue\n",
    "                rowFixed = row[0:2]\n",
    "                moveRow = np.full((6), np.float32(-1.0))\n",
    "                moveRow[int(rowFixed[0])] += 2 \n",
    "                switchRow = np.full((6), np.float32(-1.0))\n",
    "                if (int(rowFixed[1]) > 0):\n",
    "                    switchRow[int(rowFixed[1])] += 2\n",
    "                curReplay2.append(np.array([moveRow, switchRow]).flatten())\n",
    "            for x in range(269 - len(curReplay2)):\n",
    "                curReplay2.append(np.full((12), np.float32(-1.0)))\n",
    "        dataY.append(curReplay2)"
   ]
  },
  {
   "cell_type": "markdown",
   "id": "hybrid-specific",
   "metadata": {},
   "source": [
    "#### Printing some stuff to look at"
   ]
  },
  {
   "cell_type": "code",
   "execution_count": null,
   "id": "noble-boundary",
   "metadata": {},
   "outputs": [],
   "source": [
    "print(len(dataX))\n",
    "print(len(dataX[0]))\n",
    "print(len(dataX[0][0]))"
   ]
  },
  {
   "cell_type": "code",
   "execution_count": null,
   "id": "african-providence",
   "metadata": {},
   "outputs": [],
   "source": [
    "dataX[0][0]"
   ]
  },
  {
   "cell_type": "code",
   "execution_count": null,
   "id": "automotive-fruit",
   "metadata": {},
   "outputs": [],
   "source": [
    "print(len(dataY))\n",
    "print(len(dataY[0]))"
   ]
  },
  {
   "cell_type": "code",
   "execution_count": null,
   "id": "coated-cedar",
   "metadata": {},
   "outputs": [],
   "source": [
    "dataY[0][0:4]"
   ]
  },
  {
   "cell_type": "markdown",
   "id": "rising-gilbert",
   "metadata": {},
   "source": [
    "#### This slices arrays. You can set the 1000 to something higher if you have more RAM."
   ]
  },
  {
   "cell_type": "code",
   "execution_count": null,
   "id": "induced-smoke",
   "metadata": {},
   "outputs": [],
   "source": [
    "X = np.array(dataX)\n",
    "# the \"current\" turn\n",
    "splice = X.shape[0]\n",
    "preX = X[0:1000,0:-1]\n",
    "# the move taken in the current turn\n",
    "Y = np.array(dataY)\n",
    "preY = Y[0:1000,0:-1]"
   ]
  },
  {
   "cell_type": "code",
   "execution_count": null,
   "id": "bearing-banana",
   "metadata": {},
   "outputs": [],
   "source": [
    "print(preX.shape)\n",
    "print(preY.shape)"
   ]
  },
  {
   "cell_type": "markdown",
   "id": "solved-seeker",
   "metadata": {},
   "source": [
    "#### Setup the layers"
   ]
  },
  {
   "cell_type": "code",
   "execution_count": null,
   "id": "variable-bahrain",
   "metadata": {},
   "outputs": [],
   "source": [
    "hidden_size = 512\n",
    "input_size = X.shape[2]\n",
    "\n",
    "model = keras.models.Sequential()\n",
    "# input_layer = layers.Input(shape=(None, input_size))\n",
    "model.add(layers.LSTM(hidden_size, \n",
    "                      input_shape=(preX.shape[1], input_size), \n",
    "                      return_sequences=True))\n",
    "model.add(layers.Dense(12, input_shape=(None, input_size)))\n",
    "\n",
    "# Compile it...\n",
    "model.compile(loss=keras.losses.CategoricalCrossentropy(),\n",
    " optimizer=keras.optimizers.Adam(),\n",
    " metrics=[keras.metrics.CategoricalAccuracy()])\n",
    "model.summary()"
   ]
  },
  {
   "cell_type": "markdown",
   "id": "stupid-cache",
   "metadata": {},
   "source": [
    "#### Show the layers"
   ]
  },
  {
   "cell_type": "code",
   "execution_count": null,
   "id": "daily-cursor",
   "metadata": {},
   "outputs": [],
   "source": [
    "keras.utils.plot_model(model,\n",
    " show_shapes=True,expand_nested=True)"
   ]
  },
  {
   "cell_type": "markdown",
   "id": "frequent-transparency",
   "metadata": {},
   "source": [
    "#### Train"
   ]
  },
  {
   "cell_type": "code",
   "execution_count": null,
   "id": "loving-beads",
   "metadata": {},
   "outputs": [],
   "source": [
    "start = time.time()\n",
    "batch_size = preX.shape[0] // 2 # number of patterns...\n",
    "epochs = 50\n",
    "history = model.fit(preX, preY,\n",
    "    batch_size=batch_size,\n",
    "    epochs=epochs,\n",
    "    callbacks = callback,\n",
    "    verbose=0)\n",
    "print('Accuracy:',model.evaluate(preX, preY)[1]*100.0,'%')\n",
    "print(\"time to calculate:\", time.time() - start)"
   ]
  },
  {
   "cell_type": "code",
   "execution_count": null,
   "id": "occasional-waste",
   "metadata": {},
   "outputs": [],
   "source": [
    "plt.figure(1)\n",
    "# summarize history for accuracy\n",
    "plt.subplot(211)\n",
    "plt.plot(history.history['categorical_accuracy'])\n",
    "plt.title('model accuracy')\n",
    "plt.ylabel('accuracy')\n",
    "plt.xlabel('epoch')\n",
    "# summarize history for loss\n",
    "plt.subplot(212)\n",
    "plt.plot(history.history['loss'][1:])\n",
    "plt.title('model loss')\n",
    "plt.ylabel('loss')\n",
    "plt.xlabel('epoch')\n",
    "plt.tight_layout()\n",
    "plt.show()"
   ]
  },
  {
   "cell_type": "markdown",
   "id": "alternate-revision",
   "metadata": {},
   "source": [
    "#### From here, we can test\n",
    "\n",
    "To start, you need the team you are going to play with in team.txt, and the opponents pokemon (as they appear in the js development console) in opp.txt.\n",
    "\n",
    "Then you need to pick the lead, and have all the text that appears in the console that starts with a \"|\" at the beginning, including the |turn|1 part\n",
    "\n",
    "After that, run through the first turn blocks until the next description block"
   ]
  },
  {
   "cell_type": "code",
   "execution_count": null,
   "id": "yellow-proposition",
   "metadata": {},
   "outputs": [],
   "source": [
    "# imports your own team\n",
    "team = []\n",
    "poke_str = [[], []]\n",
    "with open(\"team.txt\", \"r\") as fp:\n",
    "    for x in range(6):\n",
    "        poke = replay.Pokemon()\n",
    "        poke.ImportPS(fp)\n",
    "        poke_str[0].append(poke.Pkmn.name.capitalize())\n",
    "        team.append(poke)"
   ]
  },
  {
   "cell_type": "code",
   "execution_count": null,
   "id": "suffering-prairie",
   "metadata": {},
   "outputs": [],
   "source": [
    "# imports the opponents team based on text you gathered\n",
    "opponentTeam = []\n",
    "temp = replay.Replay(None, None, True)\n",
    "with open(\"opp.txt\", \"r\") as fp:\n",
    "    enemyParty, pokeStr = temp.GetTeam(fp)\n",
    "pokemon = [team, enemyParty]\n",
    "poke_str[1] = pokeStr"
   ]
  },
  {
   "cell_type": "code",
   "execution_count": null,
   "id": "informational-provincial",
   "metadata": {},
   "outputs": [],
   "source": [
    "poke_str"
   ]
  },
  {
   "cell_type": "code",
   "execution_count": null,
   "id": "searching-management",
   "metadata": {},
   "outputs": [],
   "source": [
    "# import turns as you need to\n",
    "def ManualTurn(pokemon, poke_str, prev_turn):\n",
    "    with open(\"temp.txt\", \"w\") as fpw:\n",
    "        print(\"Enter lines that appear in the javascript console. (ctrl+shift+I in chrome)\")\n",
    "        print(\"When you have added all text for the turn, include |turn|x where x is the next turn number\")\n",
    "        print(\"If this is team preview, just put |start in and the two leads\")\n",
    "        user = input(\"\")\n",
    "        while (user != \"\"):\n",
    "            fpw.writelines(user + \"\\n\")\n",
    "            user = input(\"\")\n",
    "    with open(\"temp.txt\", \"r\") as fp:\n",
    "        turn = replay.Turn(fp, pokemon, poke_str, prev_turn)\n",
    "            \n",
    "    return turn\n",
    "def AutoTurn(pokemon, poke_str, prev_turn):\n",
    "    with open(\"temp.txt\", \"r\") as fp:\n",
    "        turn = replay.Turn(fp, pokemon, poke_str, prev_turn)\n",
    "    return turn\n",
    "    \n",
    "def getAnswer(turns, model):\n",
    "    turnVector = []\n",
    "    for x in turns:\n",
    "        inVec, outVec = x.GetVector()\n",
    "        turnVector.append(inVec)\n",
    "    for x in range(268 - len(turnVector)):\n",
    "        turnVector.append(np.full((207), np.float32(-1.0)))\n",
    "\n",
    "    vec = np.array([turnVector])\n",
    "    test = model.predict(vec)\n",
    "    return test\n",
    "\n",
    "def printArray(arr, start, end):\n",
    "    i = 0\n",
    "    for x in arr[0][start:end]:\n",
    "        print(\"Turn:\", i)\n",
    "        for y in x[0:6]:\n",
    "            print(\" {:.2f}\".format(y), end=', ')\n",
    "        print()\n",
    "        for y in x[6:]:\n",
    "            print(\" {:.2f}\".format(y), end=', ')\n",
    "        print()\n",
    "        i += 1"
   ]
  },
  {
   "cell_type": "code",
   "execution_count": null,
   "id": "listed-success",
   "metadata": {},
   "outputs": [],
   "source": [
    "firstTurn = AutoTurn(pokemon, poke_str, None)"
   ]
  },
  {
   "cell_type": "markdown",
   "id": "charitable-internet",
   "metadata": {},
   "source": [
    "The following block will output 12 numbers. The first 4 are your moves and how \"good\" they are. The 5th number is meaningless, and the 6th is to switch. Pick the highest number in this list.\n",
    "\n",
    "If you need to switch, the next 6 numbers are how \"good\" a switch option will be. Again, pick the highest in the list that is alive if you need to switch. "
   ]
  },
  {
   "cell_type": "code",
   "execution_count": null,
   "id": "dependent-eclipse",
   "metadata": {},
   "outputs": [],
   "source": [
    "turns = [firstTurn]\n",
    "test = getAnswer(turns, model)\n",
    "print(test.shape)\n",
    "printArray(test, 0, 1)"
   ]
  },
  {
   "cell_type": "markdown",
   "id": "exceptional-cause",
   "metadata": {},
   "source": [
    "At this point, you should be at a screen where you pick your move in game. At this point, you need to paste all text that starts with a \"|\" until |turn|x. Exclude the large block that contains your entire team, sometimes the blocks will be separated if you needed to pick a Pokemon to switch to. Continue to do the steps explained. \n",
    "\n",
    "You can keep running the below two blocks until the battle ends, and it should keep track of the previous turns magically (I really don't know why this is or if it is persistent but in my working demo, the previous turns never changed)."
   ]
  },
  {
   "cell_type": "code",
   "execution_count": null,
   "id": "collective-cache",
   "metadata": {},
   "outputs": [],
   "source": [
    "turns.append(AutoTurn(pokemon, poke_str, turns[len(turns) - 1]))"
   ]
  },
  {
   "cell_type": "code",
   "execution_count": null,
   "id": "unique-equality",
   "metadata": {},
   "outputs": [],
   "source": [
    "test = getAnswer(turns, model)\n",
    "printArray(test, 0, len(turns))"
   ]
  },
  {
   "cell_type": "code",
   "execution_count": null,
   "id": "choice-assumption",
   "metadata": {},
   "outputs": [],
   "source": []
  }
 ],
 "metadata": {
  "kernelspec": {
   "display_name": "Python 3",
   "language": "python",
   "name": "python3"
  },
  "language_info": {
   "codemirror_mode": {
    "name": "ipython",
    "version": 3
   },
   "file_extension": ".py",
   "mimetype": "text/x-python",
   "name": "python",
   "nbconvert_exporter": "python",
   "pygments_lexer": "ipython3",
   "version": "3.8.5"
  }
 },
 "nbformat": 4,
 "nbformat_minor": 5
}
