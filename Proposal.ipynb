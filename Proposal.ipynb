{
 "cells": [
  {
   "cell_type": "markdown",
   "id": "exceptional-vietnam",
   "metadata": {},
   "source": [
    "Our goal is to create a neural network which will be able to win games against human opponents in Smogon's overused format. This format is considered the most popular metagame outside of the official VGC format which is desirable as we can collect a lot of good data without manual work. \n",
    "    \n",
    "The core training data will consist of a combination of parsed replays of games between human players. This data would need to be tracked with an external program. This program will read a replay from turn 1, and generate data for each turn. The data will include things like each pokemon in each team, along with their last known hp (health points), items, abilities, moves, but not what happened the previous turn. We also plan to try adversarial training between two states of the network and see if that can help improve performance. \n",
    "    \n",
    "The main data sets we will work with currently include Smogon usage stats, and parsed replay data. The usage stats mostly consist of the most used everything on Pokemon. Replay data provides what decisions humans make in a given battle with information. \n",
    "\n",
    "For testing, we can have it control an account on Pokemon Showdown, a battle simulator where human players will play for gaining elo, much like chess.com is for playing chess. We could also enter the network in a tournament and see how high it gets, however this might not be possible in the time frame we have. \n"
   ]
  }
 ],
 "metadata": {
  "kernelspec": {
   "display_name": "Python 3",
   "language": "python",
   "name": "python3"
  },
  "language_info": {
   "codemirror_mode": {
    "name": "ipython",
    "version": 3
   },
   "file_extension": ".py",
   "mimetype": "text/x-python",
   "name": "python",
   "nbconvert_exporter": "python",
   "pygments_lexer": "ipython3",
   "version": "3.8.5"
  }
 },
 "nbformat": 4,
 "nbformat_minor": 5
}
