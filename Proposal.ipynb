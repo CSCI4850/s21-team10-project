{
 "cells": [
  {
   "cell_type": "markdown",
   "id": "popular-portuguese",
   "metadata": {},
   "source": [
    "Competitive Pokemon is an ever growing and complex game. It is found in a wide variety of different rulesets. The two most popular rulesets are VGC: the Nintendo “official” competitive format and Overused: a fanbase metagame. Due to the amount of data and time we have, we will be developing towards the Overused format metagame. In this, two players have teams of up to 6 Pokemon in a single battle structure. It consists of a banlist of Pokemon which are deemed too powerful and overwhelming towards team composition, as well as a few rules which aim to remove “uncompetitive” things, such as one hit ko moves and preventing people from putting more than one Pokemon to sleep. \n",
    "\n",
    "Our end goal is to create a neural network which will be able to produce moves that would win games against human opponents in Smogon's overused format. Our measurement for this goal right now is going to be a combination of percentage of hit points left on our party Pokemon. \n",
    "\n",
    "The core training data will consist of a combination of parsed replays of games between human players. This data would need to be tracked with an external program. This program will read a replay from turn 1, and generate data for each turn. The data will include things like each pokemon in each team, along with their last known hp (health points), items, abilities, moves, but not what happened the previous turn. We also plan to try adversarial training between two states of the network and see if that can help improve performance. \n",
    "\n",
    "The main data sets we will work with currently include Smogon usage stats, and parsed replay data. The usage stats mostly consist of the most used everything on Pokemon. Replay data provides what decisions humans make in a given battle with information. \n",
    "\n",
    "For testing, we can have it control an account on Pokemon Showdown, a battle simulator where human players will play for gaining elo, much like chess.com is for playing chess. We could also enter the network in a tournament and see how high it gets, however this might not be possible in the time frame we have. \n"
   ]
  }
 ],
 "metadata": {
  "kernelspec": {
   "display_name": "Python 3",
   "language": "python",
   "name": "python3"
  },
  "language_info": {
   "codemirror_mode": {
    "name": "ipython",
    "version": 3
   },
   "file_extension": ".py",
   "mimetype": "text/x-python",
   "name": "python",
   "nbconvert_exporter": "python",
   "pygments_lexer": "ipython3",
   "version": "3.8.5"
  }
 },
 "nbformat": 4,
 "nbformat_minor": 5
}
