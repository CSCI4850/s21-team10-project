{
 "cells": [
  {
   "cell_type": "markdown",
   "id": "unknown-criticism",
   "metadata": {},
   "source": [
    "# Dates: Mar. 15, Mar. 29, Apr. 5, Apr. 12, Apr. 19, Apr. 26 "
   ]
  },
  {
   "cell_type": "markdown",
   "id": "streaming-austria",
   "metadata": {},
   "source": [
    "### March 15\n",
    "|Deliverable |Percent Complete|Estimated Completion Date|Percent Complete by Next Milestone|\n",
    "|------------|----------------|-------------------------|----------------------------------|\n",
    "|Code        |10%             |Apr 14                   |30%                               |\n",
    "|Paper       |0%              |Apr 21                   |10%                               |\n",
    "|Demo        |0%              |May 1                    |0%                                |\n",
    "|Presentation|0%              |May 3                    |0%                                |"
   ]
  },
  {
   "cell_type": "markdown",
   "id": "welsh-messaging",
   "metadata": {},
   "source": [
    "1. N/A\n",
    "2. N/A\n",
    "3. Our main goals are to figure out how to divide up the work still between our two main methods of obtaining data: parsing and scraping replays, and generating data based on player usage stats. \n",
    "\n",
    "### Roles (subject to change as we progress)\n",
    "Matthew: Focusing on research and working on the paper\n",
    "\n",
    "Collin: gathering data\n",
    "\n",
    "James: research, writing code\n",
    "\n",
    "DaVonté: research on reinforcement learning\n",
    "\n",
    "Kaleb: gathering data, writing code\n"
   ]
  },
  {
   "cell_type": "markdown",
   "id": "cultural-potter",
   "metadata": {},
   "source": [
    "### March 22\n",
    "|Deliverable |Percent Complete|Estimated Completion Date|Percent Complete by Next Milestone|\n",
    "|------------|----------------|-------------------------|----------------------------------|\n",
    "|Code        |40%             |Apr 14                   |60%                               |\n",
    "|Paper       |0%              |Apr 21                   |10%                               |\n",
    "|Demo        |0%              |May 1                    |0%                                |\n",
    "|Presentation|0%              |May 3                    |0%                                |"
   ]
  },
  {
   "cell_type": "markdown",
   "id": "nonprofit-context",
   "metadata": {},
   "source": [
    "1. We finished the first parts of our code which consisted of tools needed to generate our data, and begun the process of collecting anonymized data. \n",
    "2. We did not start on the paper as planned.\n",
    "3. Figuring out a good way to convert our raw data into values that we can then pass into a network. More specificially, what information from a turn would actually be necessary and what is "
   ]
  }
 ],
 "metadata": {
  "kernelspec": {
   "display_name": "Python 3",
   "language": "python",
   "name": "python3"
  },
  "language_info": {
   "codemirror_mode": {
    "name": "ipython",
    "version": 3
   },
   "file_extension": ".py",
   "mimetype": "text/x-python",
   "name": "python",
   "nbconvert_exporter": "python",
   "pygments_lexer": "ipython3",
   "version": "3.8.5"
  }
 },
 "nbformat": 4,
 "nbformat_minor": 5
}
