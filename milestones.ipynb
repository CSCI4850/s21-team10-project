{
 "cells": [
  {
   "cell_type": "markdown",
   "id": "humanitarian-basketball",
   "metadata": {},
   "source": [
    "# Dates: Mar. 15, Mar. 29, Apr. 5, Apr. 12, Apr. 19, Apr. 26 "
   ]
  },
  {
   "cell_type": "markdown",
   "id": "sixth-architect",
   "metadata": {},
   "source": [
    "### March 15\n",
    "|Deliverable |Percent Complete|Estimated Completion Date|Percent Complete by Next Milestone|\n",
    "|------------|----------------|-------------------------|----------------------------------|\n",
    "|Code        |10%             |Apr 14                   |30%                               |\n",
    "|Paper       |0%              |Apr 21                   |10%                               |\n",
    "|Demo        |0%              |May 1                    |0%                                |\n",
    "|Presentation|0%              |May 3                    |0%                                |"
   ]
  },
  {
   "cell_type": "markdown",
   "id": "married-client",
   "metadata": {},
   "source": [
    "1. N/A\n",
    "2. N/A\n",
    "3. Our main goals are to figure out how to divide up the work still between our two main methods of obtaining data: parsing and scraping replays, and generating data based on player usage stats. \n",
    "\n",
    "#### Roles (subject to change as we progress)\n",
    "Matthew: Focusing on research and working on the paper\n",
    "\n",
    "Collin: gathering data\n",
    "\n",
    "James: research, writing code\n",
    "\n",
    "DaVonté: research on reinforcement learning\n",
    "\n",
    "Kaleb: gathering data, writing code\n"
   ]
  },
  {
   "cell_type": "markdown",
   "id": "photographic-parker",
   "metadata": {},
   "source": [
    "### March 22\n",
    "|Deliverable |Percent Complete|Estimated Completion Date|Percent Complete by Next Milestone|\n",
    "|------------|----------------|-------------------------|----------------------------------|\n",
    "|Code        |40%             |Apr 14                   |60%                               |\n",
    "|Paper       |0%              |Apr 21                   |10%                               |\n",
    "|Demo        |0%              |May 1                    |0%                                |\n",
    "|Presentation|0%              |May 3                    |0%                                |"
   ]
  },
  {
   "cell_type": "markdown",
   "id": "electoral-asset",
   "metadata": {},
   "source": [
    "1. We finished the first parts of our code which consisted of tools needed to generate our data, and begun the process of collecting anonymized data. \n",
    "2. We did not start on the paper as planned.\n",
    "3. Figuring out a good way to convert our raw data into values that we can then pass into a network. More specificially, what information from a turn would actually be necessary and what is not useful. "
   ]
  },
  {
   "cell_type": "markdown",
   "id": "cordless-nurse",
   "metadata": {},
   "source": [
    "### March 29\n",
    "|Deliverable |Percent Complete|Estimated Completion Date|Percent Complete by Next Milestone|\n",
    "|------------|----------------|-------------------------|----------------------------------|\n",
    "|Code        |60%             |Apr 14                   |80%                               |\n",
    "|Paper       |15%             |Apr 21                   |20%                               |\n",
    "|Demo        |0%              |May 1                    |0%                                |\n",
    "|Presentation|0%              |May 3                    |0%                                |"
   ]
  },
  {
   "cell_type": "markdown",
   "id": "altered-sarah",
   "metadata": {},
   "source": [
    "1. We almost finished the code that converts a replay into a list of values, and started working on the papers introduction. \n",
    "2. We did not fully decide on what should be passed into the neural net, but we came up with maybe a starting point.\n",
    "3. Matthew - working on the paper, Collin - Planning the network, Kaleb - Finalizing the replay parse code, DaVonté - Planning the network\n",
    "Planning would include discussing how data should be split up into smaller layers and beginning work on a jupyter notebook."
   ]
  },
  {
   "cell_type": "markdown",
   "id": "loved-station",
   "metadata": {},
   "source": [
    "### April 5\n",
    "|Deliverable |Percent Complete|Estimated Completion Date|Percent Complete by Next Milestone|\n",
    "|------------|----------------|-------------------------|----------------------------------|\n",
    "|Code        |70%             |Apr 14                   |80%                               |\n",
    "|Paper       |20%             |Apr 21                   |20%                               |\n",
    "|Demo        |0%              |May 1                    |0%                                |\n",
    "|Presentation|0%              |May 3                    |0%                                |"
   ]
  },
  {
   "cell_type": "markdown",
   "id": "durable-drill",
   "metadata": {},
   "source": [
    "1. The introduction to the paper is finished for now.\n",
    "2. We ran into issues parsing replays caused by some undocumented and inconsistent protocols. \n",
    "3. Matthew - working on the paper, Collin - Planning the network, Kaleb - Finalizing the replay parse code, DaVonté - Planning the network\n",
    "Planning would include discussing how data should be split up into smaller layers and beginning work on a jupyter notebook."
   ]
  },
  {
   "cell_type": "markdown",
   "id": "vanilla-jerusalem",
   "metadata": {},
   "source": [
    "### April 5\n",
    "|Deliverable |Percent Complete|Estimated Completion Date|Percent Complete by Next Milestone|\n",
    "|------------|----------------|-------------------------|----------------------------------|\n",
    "|Code        |80%             |Apr 21                   |90%                               |\n",
    "|Paper       |20%             |Apr 21                   |80%                               |\n",
    "|Demo        |0%              |May 1                    |0%                                |\n",
    "|Presentation|0%              |May 3                    |10%                               |"
   ]
  },
  {
   "cell_type": "markdown",
   "id": "julian-marks",
   "metadata": {},
   "source": [
    "1. Got 99% successful parsing of replays we collected, which gives us enough data to train a network.\n",
    "2.  \n",
    "3. Matthew - working on the paper, Collin - Network Training, Kaleb - Network Training, DaVonté - Presentation/paper\n",
    "Planning would include discussing how data should be split up into smaller layers and beginning work on a jupyter notebook."
   ]
  },
  {
   "cell_type": "code",
   "execution_count": null,
   "id": "sharing-elder",
   "metadata": {},
   "outputs": [],
   "source": []
  }
 ],
 "metadata": {
  "kernelspec": {
   "display_name": "Python 3",
   "language": "python",
   "name": "python3"
  },
  "language_info": {
   "codemirror_mode": {
    "name": "ipython",
    "version": 3
   },
   "file_extension": ".py",
   "mimetype": "text/x-python",
   "name": "python",
   "nbconvert_exporter": "python",
   "pygments_lexer": "ipython3",
   "version": "3.8.5"
  }
 },
 "nbformat": 4,
 "nbformat_minor": 5
}
