{
 "cells": [
  {
   "cell_type": "raw",
   "id": "applicable-sussex",
   "metadata": {},
   "source": [
    "@article{b1,\n",
    "  author = \"Volodymyr Mnih and Koray Kavukcuoglu and David Silver and Alex Graves and Ioannis Antonoglou and Daan Wierstra and Martin A. Riedmiller\",\n",
    "   title = \"Playing atari with deep reinforcement learning\",\n",
    " journal = \"CoRR\",\n",
    "  volume = \"abs/1312.5602\",\n",
    "    year = 2013,\n",
    "}\n",
    "\n",
    "@article{b2,\n",
    "  author = \"David Silver and Thomas Hubert and Julian Schrittwieser and Ioannis Antonoglou and Matthew Lai and Arthur Guez and Marc Lanctot and Laurent Sifre and Dharshan Kumaran and Thore Graepel and Timothy P. Lillicrap and Karen Simonyan and Demis Hassabis\",\n",
    "   title = \"Mastering Chess and Shogi by Self-Play with a General Reinforcement Learning Algorithm\",\n",
    " journal = \"CoRR\",\n",
    "  volume = \"abs/1712.01815\",\n",
    "    year = 2017,\n",
    "}\n",
    "\n",
    "@book{b3,\n",
    "  author = \"Richard S. Sutton and Andrew G. Barto\",\n",
    "   title = \"Reinforcement Learning: An Introduction\",\n",
    " publisher = \"MIT Press\",\n",
    "    year = 2017,\n",
    "   pages = \"1--11\"\n",
    "}\n"
   ]
  }
 ],
 "metadata": {
  "kernelspec": {
   "display_name": "Python 3",
   "language": "python",
   "name": "python3"
  },
  "language_info": {
   "codemirror_mode": {
    "name": "ipython",
    "version": 3
   },
   "file_extension": ".py",
   "mimetype": "text/x-python",
   "name": "python",
   "nbconvert_exporter": "python",
   "pygments_lexer": "ipython3",
   "version": "3.8.6"
  }
 },
 "nbformat": 4,
 "nbformat_minor": 5
}
